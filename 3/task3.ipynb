{
 "cells": [
  {
   "cell_type": "markdown",
   "metadata": {},
   "source": [
    "# 3 Кластеризация"
   ]
  },
  {
   "cell_type": "code",
   "execution_count": 2,
   "metadata": {},
   "outputs": [],
   "source": [
    "import numpy as np\n",
    "import pandas as pd\n",
    "from matplotlib import pyplot as plt\n",
    "import seaborn as sns\n",
    "%matplotlib inline"
   ]
  },
  {
   "cell_type": "markdown",
   "metadata": {},
   "source": [
    "## Загрузка датасета"
   ]
  },
  {
   "cell_type": "code",
   "execution_count": 3,
   "metadata": {},
   "outputs": [
    {
     "data": {
      "text/html": [
       "<div>\n",
       "<style scoped>\n",
       "    .dataframe tbody tr th:only-of-type {\n",
       "        vertical-align: middle;\n",
       "    }\n",
       "\n",
       "    .dataframe tbody tr th {\n",
       "        vertical-align: top;\n",
       "    }\n",
       "\n",
       "    .dataframe thead th {\n",
       "        text-align: right;\n",
       "    }\n",
       "</style>\n",
       "<table border=\"1\" class=\"dataframe\">\n",
       "  <thead>\n",
       "    <tr style=\"text-align: right;\">\n",
       "      <th></th>\n",
       "      <th>ID</th>\n",
       "      <th>Sex</th>\n",
       "      <th>Marital status</th>\n",
       "      <th>Age</th>\n",
       "      <th>Education</th>\n",
       "      <th>Income</th>\n",
       "      <th>Occupation</th>\n",
       "      <th>Settlement size</th>\n",
       "    </tr>\n",
       "  </thead>\n",
       "  <tbody>\n",
       "    <tr>\n",
       "      <th>0</th>\n",
       "      <td>100000001</td>\n",
       "      <td>0</td>\n",
       "      <td>0</td>\n",
       "      <td>67</td>\n",
       "      <td>2</td>\n",
       "      <td>124670</td>\n",
       "      <td>1</td>\n",
       "      <td>2</td>\n",
       "    </tr>\n",
       "    <tr>\n",
       "      <th>1</th>\n",
       "      <td>100000002</td>\n",
       "      <td>1</td>\n",
       "      <td>1</td>\n",
       "      <td>22</td>\n",
       "      <td>1</td>\n",
       "      <td>150773</td>\n",
       "      <td>1</td>\n",
       "      <td>2</td>\n",
       "    </tr>\n",
       "    <tr>\n",
       "      <th>2</th>\n",
       "      <td>100000003</td>\n",
       "      <td>0</td>\n",
       "      <td>0</td>\n",
       "      <td>49</td>\n",
       "      <td>1</td>\n",
       "      <td>89210</td>\n",
       "      <td>0</td>\n",
       "      <td>0</td>\n",
       "    </tr>\n",
       "    <tr>\n",
       "      <th>3</th>\n",
       "      <td>100000004</td>\n",
       "      <td>0</td>\n",
       "      <td>0</td>\n",
       "      <td>45</td>\n",
       "      <td>1</td>\n",
       "      <td>171565</td>\n",
       "      <td>1</td>\n",
       "      <td>1</td>\n",
       "    </tr>\n",
       "    <tr>\n",
       "      <th>4</th>\n",
       "      <td>100000005</td>\n",
       "      <td>0</td>\n",
       "      <td>0</td>\n",
       "      <td>53</td>\n",
       "      <td>1</td>\n",
       "      <td>149031</td>\n",
       "      <td>1</td>\n",
       "      <td>1</td>\n",
       "    </tr>\n",
       "  </tbody>\n",
       "</table>\n",
       "</div>"
      ],
      "text/plain": [
       "          ID  Sex  Marital status  Age  Education  Income  Occupation  \\\n",
       "0  100000001    0               0   67          2  124670           1   \n",
       "1  100000002    1               1   22          1  150773           1   \n",
       "2  100000003    0               0   49          1   89210           0   \n",
       "3  100000004    0               0   45          1  171565           1   \n",
       "4  100000005    0               0   53          1  149031           1   \n",
       "\n",
       "   Settlement size  \n",
       "0                2  \n",
       "1                2  \n",
       "2                0  \n",
       "3                1  \n",
       "4                1  "
      ]
     },
     "execution_count": 3,
     "metadata": {},
     "output_type": "execute_result"
    }
   ],
   "source": [
    "df = pd.read_csv(\"var 1 segmentation data.csv\")\n",
    "df.head()"
   ]
  },
  {
   "cell_type": "markdown",
   "metadata": {},
   "source": [
    "Размер датасета"
   ]
  },
  {
   "cell_type": "code",
   "execution_count": 4,
   "metadata": {},
   "outputs": [
    {
     "data": {
      "text/plain": [
       "(2000, 8)"
      ]
     },
     "execution_count": 4,
     "metadata": {},
     "output_type": "execute_result"
    }
   ],
   "source": [
    "df.shape"
   ]
  },
  {
   "cell_type": "markdown",
   "metadata": {},
   "source": [
    "Информация"
   ]
  },
  {
   "cell_type": "code",
   "execution_count": 5,
   "metadata": {},
   "outputs": [
    {
     "name": "stdout",
     "output_type": "stream",
     "text": [
      "<class 'pandas.core.frame.DataFrame'>\n",
      "RangeIndex: 2000 entries, 0 to 1999\n",
      "Data columns (total 8 columns):\n",
      " #   Column           Non-Null Count  Dtype\n",
      "---  ------           --------------  -----\n",
      " 0   ID               2000 non-null   int64\n",
      " 1   Sex              2000 non-null   int64\n",
      " 2   Marital status   2000 non-null   int64\n",
      " 3   Age              2000 non-null   int64\n",
      " 4   Education        2000 non-null   int64\n",
      " 5   Income           2000 non-null   int64\n",
      " 6   Occupation       2000 non-null   int64\n",
      " 7   Settlement size  2000 non-null   int64\n",
      "dtypes: int64(8)\n",
      "memory usage: 125.1 KB\n"
     ]
    }
   ],
   "source": [
    "df.info()"
   ]
  },
  {
   "cell_type": "code",
   "execution_count": 6,
   "metadata": {},
   "outputs": [
    {
     "data": {
      "text/html": [
       "<div>\n",
       "<style scoped>\n",
       "    .dataframe tbody tr th:only-of-type {\n",
       "        vertical-align: middle;\n",
       "    }\n",
       "\n",
       "    .dataframe tbody tr th {\n",
       "        vertical-align: top;\n",
       "    }\n",
       "\n",
       "    .dataframe thead th {\n",
       "        text-align: right;\n",
       "    }\n",
       "</style>\n",
       "<table border=\"1\" class=\"dataframe\">\n",
       "  <thead>\n",
       "    <tr style=\"text-align: right;\">\n",
       "      <th></th>\n",
       "      <th>ID</th>\n",
       "      <th>Sex</th>\n",
       "      <th>Marital status</th>\n",
       "      <th>Age</th>\n",
       "      <th>Education</th>\n",
       "      <th>Income</th>\n",
       "      <th>Occupation</th>\n",
       "      <th>Settlement size</th>\n",
       "    </tr>\n",
       "  </thead>\n",
       "  <tbody>\n",
       "    <tr>\n",
       "      <th>count</th>\n",
       "      <td>2.000000e+03</td>\n",
       "      <td>2000.000000</td>\n",
       "      <td>2000.000000</td>\n",
       "      <td>2000.000000</td>\n",
       "      <td>2000.00000</td>\n",
       "      <td>2000.000000</td>\n",
       "      <td>2000.000000</td>\n",
       "      <td>2000.000000</td>\n",
       "    </tr>\n",
       "    <tr>\n",
       "      <th>mean</th>\n",
       "      <td>1.000010e+08</td>\n",
       "      <td>0.457000</td>\n",
       "      <td>0.496500</td>\n",
       "      <td>35.909000</td>\n",
       "      <td>1.03800</td>\n",
       "      <td>120954.419000</td>\n",
       "      <td>0.810500</td>\n",
       "      <td>0.739000</td>\n",
       "    </tr>\n",
       "    <tr>\n",
       "      <th>std</th>\n",
       "      <td>5.774946e+02</td>\n",
       "      <td>0.498272</td>\n",
       "      <td>0.500113</td>\n",
       "      <td>11.719402</td>\n",
       "      <td>0.59978</td>\n",
       "      <td>38108.824679</td>\n",
       "      <td>0.638587</td>\n",
       "      <td>0.812533</td>\n",
       "    </tr>\n",
       "    <tr>\n",
       "      <th>min</th>\n",
       "      <td>1.000000e+08</td>\n",
       "      <td>0.000000</td>\n",
       "      <td>0.000000</td>\n",
       "      <td>18.000000</td>\n",
       "      <td>0.00000</td>\n",
       "      <td>35832.000000</td>\n",
       "      <td>0.000000</td>\n",
       "      <td>0.000000</td>\n",
       "    </tr>\n",
       "    <tr>\n",
       "      <th>25%</th>\n",
       "      <td>1.000005e+08</td>\n",
       "      <td>0.000000</td>\n",
       "      <td>0.000000</td>\n",
       "      <td>27.000000</td>\n",
       "      <td>1.00000</td>\n",
       "      <td>97663.250000</td>\n",
       "      <td>0.000000</td>\n",
       "      <td>0.000000</td>\n",
       "    </tr>\n",
       "    <tr>\n",
       "      <th>50%</th>\n",
       "      <td>1.000010e+08</td>\n",
       "      <td>0.000000</td>\n",
       "      <td>0.000000</td>\n",
       "      <td>33.000000</td>\n",
       "      <td>1.00000</td>\n",
       "      <td>115548.500000</td>\n",
       "      <td>1.000000</td>\n",
       "      <td>1.000000</td>\n",
       "    </tr>\n",
       "    <tr>\n",
       "      <th>75%</th>\n",
       "      <td>1.000015e+08</td>\n",
       "      <td>1.000000</td>\n",
       "      <td>1.000000</td>\n",
       "      <td>42.000000</td>\n",
       "      <td>1.00000</td>\n",
       "      <td>138072.250000</td>\n",
       "      <td>1.000000</td>\n",
       "      <td>1.000000</td>\n",
       "    </tr>\n",
       "    <tr>\n",
       "      <th>max</th>\n",
       "      <td>1.000020e+08</td>\n",
       "      <td>1.000000</td>\n",
       "      <td>1.000000</td>\n",
       "      <td>76.000000</td>\n",
       "      <td>3.00000</td>\n",
       "      <td>309364.000000</td>\n",
       "      <td>2.000000</td>\n",
       "      <td>2.000000</td>\n",
       "    </tr>\n",
       "  </tbody>\n",
       "</table>\n",
       "</div>"
      ],
      "text/plain": [
       "                 ID          Sex  Marital status          Age   Education  \\\n",
       "count  2.000000e+03  2000.000000     2000.000000  2000.000000  2000.00000   \n",
       "mean   1.000010e+08     0.457000        0.496500    35.909000     1.03800   \n",
       "std    5.774946e+02     0.498272        0.500113    11.719402     0.59978   \n",
       "min    1.000000e+08     0.000000        0.000000    18.000000     0.00000   \n",
       "25%    1.000005e+08     0.000000        0.000000    27.000000     1.00000   \n",
       "50%    1.000010e+08     0.000000        0.000000    33.000000     1.00000   \n",
       "75%    1.000015e+08     1.000000        1.000000    42.000000     1.00000   \n",
       "max    1.000020e+08     1.000000        1.000000    76.000000     3.00000   \n",
       "\n",
       "              Income   Occupation  Settlement size  \n",
       "count    2000.000000  2000.000000      2000.000000  \n",
       "mean   120954.419000     0.810500         0.739000  \n",
       "std     38108.824679     0.638587         0.812533  \n",
       "min     35832.000000     0.000000         0.000000  \n",
       "25%     97663.250000     0.000000         0.000000  \n",
       "50%    115548.500000     1.000000         1.000000  \n",
       "75%    138072.250000     1.000000         1.000000  \n",
       "max    309364.000000     2.000000         2.000000  "
      ]
     },
     "execution_count": 6,
     "metadata": {},
     "output_type": "execute_result"
    }
   ],
   "source": [
    "df.describe()"
   ]
  },
  {
   "cell_type": "markdown",
   "metadata": {},
   "source": [
    "## Проверка пропусков"
   ]
  },
  {
   "cell_type": "markdown",
   "metadata": {},
   "source": [
    "Пропуски данных"
   ]
  },
  {
   "cell_type": "code",
   "execution_count": 7,
   "metadata": {},
   "outputs": [
    {
     "name": "stdout",
     "output_type": "stream",
     "text": [
      "0\n",
      "Series([], dtype: float64)\n"
     ]
    }
   ],
   "source": [
    "df_null_per = df.isnull().sum() / df.shape[0] * 100 \n",
    "print(df_null_per[df_null_per > 0].count())\n",
    "print(df_null_per[df_null_per > 0])"
   ]
  },
  {
   "cell_type": "markdown",
   "metadata": {},
   "source": [
    "Нет пропусков данных. Посмотрим на корреляцию данных"
   ]
  },
  {
   "cell_type": "code",
   "execution_count": 8,
   "metadata": {},
   "outputs": [
    {
     "data": {
      "text/plain": [
       "<AxesSubplot:>"
      ]
     },
     "execution_count": 8,
     "metadata": {},
     "output_type": "execute_result"
    },
    {
     "data": {
      "image/png": "[encoded data removed]",
      "text/plain": [
       "<Figure size 432x288 with 2 Axes>"
      ]
     },
     "metadata": {
      "needs_background": "light"
     },
     "output_type": "display_data"
    }
   ],
   "source": [
    "corMx = df.corr()\n",
    "sns.heatmap(corMx)"
   ]
  },
  {
   "cell_type": "markdown",
   "metadata": {},
   "source": [
    "## Проверка пропусков"
   ]
  },
  {
   "cell_type": "markdown",
   "metadata": {},
   "source": [
    "Рассмотрим столбцы, в которых могут быть выбросы.\n",
    "\n",
    "ID рассматривать не будем. Также не рассматриваем категориальные: Sex, Martial status, Education, Occupation, Settlement size.\n",
    "\n",
    "Остаются: Age, Income"
   ]
  },
  {
   "cell_type": "code",
   "execution_count": 9,
   "metadata": {},
   "outputs": [
    {
     "data": {
      "text/plain": [
       "<AxesSubplot:>"
      ]
     },
     "execution_count": 9,
     "metadata": {},
     "output_type": "execute_result"
    },
    {
     "data": {
      "image/png": "[encoded data removed]",
      "text/plain": [
       "<Figure size 432x288 with 1 Axes>"
      ]
     },
     "metadata": {
      "needs_background": "light"
     },
     "output_type": "display_data"
    }
   ],
   "source": [
    "sns.boxplot(data=df['Age'])"
   ]
  },
  {
   "cell_type": "markdown",
   "metadata": {},
   "source": [
    "В столбце Age нет выбросов."
   ]
  },
  {
   "cell_type": "code",
   "execution_count": 10,
   "metadata": {},
   "outputs": [
    {
     "data": {
      "text/plain": [
       "<AxesSubplot:>"
      ]
     },
     "execution_count": 10,
     "metadata": {},
     "output_type": "execute_result"
    },
    {
     "data": {
      "image/png": "[encoded data removed]",
      "text/plain": [
       "<Figure size 432x288 with 1 Axes>"
      ]
     },
     "metadata": {
      "needs_background": "light"
     },
     "output_type": "display_data"
    }
   ],
   "source": [
    "sns.boxplot(data=df['Income'])"
   ]
  },
  {
   "cell_type": "markdown",
   "metadata": {},
   "source": [
    "## Удаление выбросов"
   ]
  },
  {
   "cell_type": "markdown",
   "metadata": {},
   "source": [
    "Попробуем удалить выбросы с помощью квартилей"
   ]
  },
  {
   "cell_type": "code",
   "execution_count": 11,
   "metadata": {},
   "outputs": [],
   "source": [
    "# def drop_out(df, col):\n",
    "#     q1 = df[col].quantile(0.25)\n",
    "#     q3 = df[col].quantile(0.75)\n",
    "#     dif = q3 - q1\n",
    "#     # реализуем правило удаления выбросов\n",
    "#     down = q1 - 1.5 * dif\n",
    "#     up = q3 + 1.5 * dif\n",
    "#     df.drop(df[(df[col] < down) | (df[col] > up)].index, inplace=True)\n",
    "\n",
    "\n",
    "# drop_out(df, 'Income')"
   ]
  },
  {
   "cell_type": "markdown",
   "metadata": {},
   "source": [
    "Посмотрим на боксплот после удаления выбросов"
   ]
  },
  {
   "cell_type": "code",
   "execution_count": 12,
   "metadata": {},
   "outputs": [],
   "source": [
    "# sns.boxplot(data=df['Income'])"
   ]
  },
  {
   "cell_type": "markdown",
   "metadata": {},
   "source": [
    "Проверим размер датасета после удаления выбросов"
   ]
  },
  {
   "cell_type": "code",
   "execution_count": 13,
   "metadata": {},
   "outputs": [],
   "source": [
    "# df.shape"
   ]
  },
  {
   "cell_type": "markdown",
   "metadata": {},
   "source": [
    "## Нормализация данных"
   ]
  },
  {
   "cell_type": "markdown",
   "metadata": {},
   "source": [
    "Все данные числового типа, поэтому просто нормализуем их с помощью StandardScaler"
   ]
  },
  {
   "cell_type": "code",
   "execution_count": 14,
   "metadata": {},
   "outputs": [],
   "source": [
    "from sklearn.preprocessing import StandardScaler\n",
    "\n",
    "ss = StandardScaler()\n",
    "\n",
    "\n",
    "df = df.drop('ID', axis=1)\n",
    "\n",
    "ss.fit(df)\n",
    "X = ss.transform(df)"
   ]
  },
  {
   "cell_type": "markdown",
   "metadata": {},
   "source": [
    "Посмотрим на полученный датасет"
   ]
  },
  {
   "cell_type": "code",
   "execution_count": 15,
   "metadata": {},
   "outputs": [
    {
     "data": {
      "text/html": [
       "<div>\n",
       "<style scoped>\n",
       "    .dataframe tbody tr th:only-of-type {\n",
       "        vertical-align: middle;\n",
       "    }\n",
       "\n",
       "    .dataframe tbody tr th {\n",
       "        vertical-align: top;\n",
       "    }\n",
       "\n",
       "    .dataframe thead th {\n",
       "        text-align: right;\n",
       "    }\n",
       "</style>\n",
       "<table border=\"1\" class=\"dataframe\">\n",
       "  <thead>\n",
       "    <tr style=\"text-align: right;\">\n",
       "      <th></th>\n",
       "      <th>Sex</th>\n",
       "      <th>Marital status</th>\n",
       "      <th>Age</th>\n",
       "      <th>Education</th>\n",
       "      <th>Income</th>\n",
       "      <th>Occupation</th>\n",
       "      <th>Settlement size</th>\n",
       "    </tr>\n",
       "  </thead>\n",
       "  <tbody>\n",
       "    <tr>\n",
       "      <th>0</th>\n",
       "      <td>-0.917399</td>\n",
       "      <td>-0.993024</td>\n",
       "      <td>2.653614</td>\n",
       "      <td>1.604323</td>\n",
       "      <td>0.097524</td>\n",
       "      <td>0.296823</td>\n",
       "      <td>1.552326</td>\n",
       "    </tr>\n",
       "    <tr>\n",
       "      <th>1</th>\n",
       "      <td>1.090038</td>\n",
       "      <td>1.007025</td>\n",
       "      <td>-1.187132</td>\n",
       "      <td>-0.063372</td>\n",
       "      <td>0.782654</td>\n",
       "      <td>0.296823</td>\n",
       "      <td>1.552326</td>\n",
       "    </tr>\n",
       "    <tr>\n",
       "      <th>2</th>\n",
       "      <td>-0.917399</td>\n",
       "      <td>-0.993024</td>\n",
       "      <td>1.117316</td>\n",
       "      <td>-0.063372</td>\n",
       "      <td>-0.833202</td>\n",
       "      <td>-1.269525</td>\n",
       "      <td>-0.909730</td>\n",
       "    </tr>\n",
       "    <tr>\n",
       "      <th>3</th>\n",
       "      <td>-0.917399</td>\n",
       "      <td>-0.993024</td>\n",
       "      <td>0.775916</td>\n",
       "      <td>-0.063372</td>\n",
       "      <td>1.328386</td>\n",
       "      <td>0.296823</td>\n",
       "      <td>0.321298</td>\n",
       "    </tr>\n",
       "    <tr>\n",
       "      <th>4</th>\n",
       "      <td>-0.917399</td>\n",
       "      <td>-0.993024</td>\n",
       "      <td>1.458716</td>\n",
       "      <td>-0.063372</td>\n",
       "      <td>0.736932</td>\n",
       "      <td>0.296823</td>\n",
       "      <td>0.321298</td>\n",
       "    </tr>\n",
       "  </tbody>\n",
       "</table>\n",
       "</div>"
      ],
      "text/plain": [
       "        Sex  Marital status       Age  Education    Income  Occupation  \\\n",
       "0 -0.917399       -0.993024  2.653614   1.604323  0.097524    0.296823   \n",
       "1  1.090038        1.007025 -1.187132  -0.063372  0.782654    0.296823   \n",
       "2 -0.917399       -0.993024  1.117316  -0.063372 -0.833202   -1.269525   \n",
       "3 -0.917399       -0.993024  0.775916  -0.063372  1.328386    0.296823   \n",
       "4 -0.917399       -0.993024  1.458716  -0.063372  0.736932    0.296823   \n",
       "\n",
       "   Settlement size  \n",
       "0         1.552326  \n",
       "1         1.552326  \n",
       "2        -0.909730  \n",
       "3         0.321298  \n",
       "4         0.321298  "
      ]
     },
     "execution_count": 15,
     "metadata": {},
     "output_type": "execute_result"
    }
   ],
   "source": [
    "X = pd.DataFrame(X, columns=df.columns)\n",
    "X.head()\n"
   ]
  },
  {
   "cell_type": "code",
   "execution_count": 16,
   "metadata": {},
   "outputs": [
    {
     "data": {
      "text/html": [
       "<div>\n",
       "<style scoped>\n",
       "    .dataframe tbody tr th:only-of-type {\n",
       "        vertical-align: middle;\n",
       "    }\n",
       "\n",
       "    .dataframe tbody tr th {\n",
       "        vertical-align: top;\n",
       "    }\n",
       "\n",
       "    .dataframe thead th {\n",
       "        text-align: right;\n",
       "    }\n",
       "</style>\n",
       "<table border=\"1\" class=\"dataframe\">\n",
       "  <thead>\n",
       "    <tr style=\"text-align: right;\">\n",
       "      <th></th>\n",
       "      <th>Sex</th>\n",
       "      <th>Marital status</th>\n",
       "      <th>Age</th>\n",
       "      <th>Education</th>\n",
       "      <th>Income</th>\n",
       "      <th>Occupation</th>\n",
       "      <th>Settlement size</th>\n",
       "    </tr>\n",
       "  </thead>\n",
       "  <tbody>\n",
       "    <tr>\n",
       "      <th>0</th>\n",
       "      <td>-0.917399</td>\n",
       "      <td>-0.993024</td>\n",
       "      <td>2.653614</td>\n",
       "      <td>1.604323</td>\n",
       "      <td>0.097524</td>\n",
       "      <td>0.296823</td>\n",
       "      <td>1.552326</td>\n",
       "    </tr>\n",
       "    <tr>\n",
       "      <th>1</th>\n",
       "      <td>1.090038</td>\n",
       "      <td>1.007025</td>\n",
       "      <td>-1.187132</td>\n",
       "      <td>-0.063372</td>\n",
       "      <td>0.782654</td>\n",
       "      <td>0.296823</td>\n",
       "      <td>1.552326</td>\n",
       "    </tr>\n",
       "    <tr>\n",
       "      <th>2</th>\n",
       "      <td>-0.917399</td>\n",
       "      <td>-0.993024</td>\n",
       "      <td>1.117316</td>\n",
       "      <td>-0.063372</td>\n",
       "      <td>-0.833202</td>\n",
       "      <td>-1.269525</td>\n",
       "      <td>-0.909730</td>\n",
       "    </tr>\n",
       "    <tr>\n",
       "      <th>3</th>\n",
       "      <td>-0.917399</td>\n",
       "      <td>-0.993024</td>\n",
       "      <td>0.775916</td>\n",
       "      <td>-0.063372</td>\n",
       "      <td>1.328386</td>\n",
       "      <td>0.296823</td>\n",
       "      <td>0.321298</td>\n",
       "    </tr>\n",
       "    <tr>\n",
       "      <th>4</th>\n",
       "      <td>-0.917399</td>\n",
       "      <td>-0.993024</td>\n",
       "      <td>1.458716</td>\n",
       "      <td>-0.063372</td>\n",
       "      <td>0.736932</td>\n",
       "      <td>0.296823</td>\n",
       "      <td>0.321298</td>\n",
       "    </tr>\n",
       "  </tbody>\n",
       "</table>\n",
       "</div>"
      ],
      "text/plain": [
       "        Sex  Marital status       Age  Education    Income  Occupation  \\\n",
       "0 -0.917399       -0.993024  2.653614   1.604323  0.097524    0.296823   \n",
       "1  1.090038        1.007025 -1.187132  -0.063372  0.782654    0.296823   \n",
       "2 -0.917399       -0.993024  1.117316  -0.063372 -0.833202   -1.269525   \n",
       "3 -0.917399       -0.993024  0.775916  -0.063372  1.328386    0.296823   \n",
       "4 -0.917399       -0.993024  1.458716  -0.063372  0.736932    0.296823   \n",
       "\n",
       "   Settlement size  \n",
       "0         1.552326  \n",
       "1         1.552326  \n",
       "2        -0.909730  \n",
       "3         0.321298  \n",
       "4         0.321298  "
      ]
     },
     "execution_count": 16,
     "metadata": {},
     "output_type": "execute_result"
    }
   ],
   "source": [
    "X.head()"
   ]
  },
  {
   "cell_type": "markdown",
   "metadata": {},
   "source": [
    "## Кластеризация"
   ]
  },
  {
   "cell_type": "markdown",
   "metadata": {},
   "source": [
    "Лист, которых хранит информацию о силуэте для метрик и кластеров"
   ]
  },
  {
   "cell_type": "code",
   "execution_count": 17,
   "metadata": {},
   "outputs": [],
   "source": [
    "lst_siluete = []"
   ]
  },
  {
   "cell_type": "markdown",
   "metadata": {},
   "source": [
    "### K-means кластеризация"
   ]
  },
  {
   "cell_type": "code",
   "execution_count": 18,
   "metadata": {},
   "outputs": [],
   "source": [
    "from sklearn.metrics import silhouette_score\n",
    "from sklearn.cluster import KMeans"
   ]
  },
  {
   "cell_type": "code",
   "execution_count": 19,
   "metadata": {},
   "outputs": [
    {
     "data": {
      "text/plain": [
       "[<matplotlib.lines.Line2D at 0x2753f2dbc70>]"
      ]
     },
     "execution_count": 19,
     "metadata": {},
     "output_type": "execute_result"
    },
    {
     "data": {
      "image/png": "[encoded data removed]",
      "text/plain": [
       "<Figure size 432x288 with 1 Axes>"
      ]
     },
     "metadata": {
      "needs_background": "light"
     },
     "output_type": "display_data"
    }
   ],
   "source": [
    "siluete = []\n",
    "for k in range(2, 11):\n",
    "    kmeans = KMeans(n_clusters=k)\n",
    "    kmeans.fit(X)\n",
    "    siluete.append(silhouette_score(X, kmeans.labels_))\n",
    "plt.plot(range(2, 11), siluete)\n"
   ]
  },
  {
   "cell_type": "markdown",
   "metadata": {},
   "source": [
    "Рассмотрим количество кластеров = 3"
   ]
  },
  {
   "cell_type": "code",
   "execution_count": 20,
   "metadata": {},
   "outputs": [
    {
     "data": {
      "text/html": [
       "<div>\n",
       "<style scoped>\n",
       "    .dataframe tbody tr th:only-of-type {\n",
       "        vertical-align: middle;\n",
       "    }\n",
       "\n",
       "    .dataframe tbody tr th {\n",
       "        vertical-align: top;\n",
       "    }\n",
       "\n",
       "    .dataframe thead th {\n",
       "        text-align: right;\n",
       "    }\n",
       "</style>\n",
       "<table border=\"1\" class=\"dataframe\">\n",
       "  <thead>\n",
       "    <tr style=\"text-align: right;\">\n",
       "      <th></th>\n",
       "      <th>Sex</th>\n",
       "      <th>Marital status</th>\n",
       "      <th>Age</th>\n",
       "      <th>Education</th>\n",
       "      <th>Income</th>\n",
       "      <th>Occupation</th>\n",
       "      <th>Settlement size</th>\n",
       "      <th>Claster</th>\n",
       "    </tr>\n",
       "  </thead>\n",
       "  <tbody>\n",
       "    <tr>\n",
       "      <th>0</th>\n",
       "      <td>-0.917399</td>\n",
       "      <td>-0.993024</td>\n",
       "      <td>2.653614</td>\n",
       "      <td>1.604323</td>\n",
       "      <td>0.097524</td>\n",
       "      <td>0.296823</td>\n",
       "      <td>1.552326</td>\n",
       "      <td>2</td>\n",
       "    </tr>\n",
       "    <tr>\n",
       "      <th>1</th>\n",
       "      <td>1.090038</td>\n",
       "      <td>1.007025</td>\n",
       "      <td>-1.187132</td>\n",
       "      <td>-0.063372</td>\n",
       "      <td>0.782654</td>\n",
       "      <td>0.296823</td>\n",
       "      <td>1.552326</td>\n",
       "      <td>0</td>\n",
       "    </tr>\n",
       "    <tr>\n",
       "      <th>2</th>\n",
       "      <td>-0.917399</td>\n",
       "      <td>-0.993024</td>\n",
       "      <td>1.117316</td>\n",
       "      <td>-0.063372</td>\n",
       "      <td>-0.833202</td>\n",
       "      <td>-1.269525</td>\n",
       "      <td>-0.909730</td>\n",
       "      <td>0</td>\n",
       "    </tr>\n",
       "    <tr>\n",
       "      <th>3</th>\n",
       "      <td>-0.917399</td>\n",
       "      <td>-0.993024</td>\n",
       "      <td>0.775916</td>\n",
       "      <td>-0.063372</td>\n",
       "      <td>1.328386</td>\n",
       "      <td>0.296823</td>\n",
       "      <td>0.321298</td>\n",
       "      <td>1</td>\n",
       "    </tr>\n",
       "    <tr>\n",
       "      <th>4</th>\n",
       "      <td>-0.917399</td>\n",
       "      <td>-0.993024</td>\n",
       "      <td>1.458716</td>\n",
       "      <td>-0.063372</td>\n",
       "      <td>0.736932</td>\n",
       "      <td>0.296823</td>\n",
       "      <td>0.321298</td>\n",
       "      <td>1</td>\n",
       "    </tr>\n",
       "  </tbody>\n",
       "</table>\n",
       "</div>"
      ],
      "text/plain": [
       "        Sex  Marital status       Age  Education    Income  Occupation  \\\n",
       "0 -0.917399       -0.993024  2.653614   1.604323  0.097524    0.296823   \n",
       "1  1.090038        1.007025 -1.187132  -0.063372  0.782654    0.296823   \n",
       "2 -0.917399       -0.993024  1.117316  -0.063372 -0.833202   -1.269525   \n",
       "3 -0.917399       -0.993024  0.775916  -0.063372  1.328386    0.296823   \n",
       "4 -0.917399       -0.993024  1.458716  -0.063372  0.736932    0.296823   \n",
       "\n",
       "   Settlement size  Claster  \n",
       "0         1.552326        2  \n",
       "1         1.552326        0  \n",
       "2        -0.909730        0  \n",
       "3         0.321298        1  \n",
       "4         0.321298        1  "
      ]
     },
     "execution_count": 20,
     "metadata": {},
     "output_type": "execute_result"
    }
   ],
   "source": [
    "kmeans = KMeans(n_clusters=3)\n",
    "result_kmeans3 = kmeans.fit(X)\n",
    "df_kmeans = X.copy()\n",
    "df_kmeans['Claster'] = result_kmeans3.labels_\n",
    "df_kmeans.head()"
   ]
  },
  {
   "cell_type": "code",
   "execution_count": 21,
   "metadata": {},
   "outputs": [
    {
     "name": "stdout",
     "output_type": "stream",
     "text": [
      "0.2656255437984843\n"
     ]
    }
   ],
   "source": [
    "s = silhouette_score(X, kmeans.labels_)\n",
    "print(s)\n",
    "lst_siluete.append(\"kmeans 3 кластера = \" + str(s))\n"
   ]
  },
  {
   "cell_type": "markdown",
   "metadata": {},
   "source": [
    "Посмотрим на графики"
   ]
  },
  {
   "cell_type": "code",
   "execution_count": 22,
   "metadata": {},
   "outputs": [],
   "source": [
    "# sns.catplot(x=\"Claster\", y=\"Age\", data=df_kmeans)\n"
   ]
  },
  {
   "cell_type": "code",
   "execution_count": 23,
   "metadata": {},
   "outputs": [],
   "source": [
    "# sns.catplot(x=\"Claster\", y=\"Income\", data=df_kmeans)"
   ]
  },
  {
   "cell_type": "code",
   "execution_count": 24,
   "metadata": {},
   "outputs": [],
   "source": [
    "# plt.scatter(df[\"Age\"], df[\"Income\"], c=result_kmeans3.labels_)\n"
   ]
  },
  {
   "cell_type": "markdown",
   "metadata": {},
   "source": [
    "Проба на 9 кластерах"
   ]
  },
  {
   "cell_type": "code",
   "execution_count": 25,
   "metadata": {},
   "outputs": [
    {
     "data": {
      "text/html": [
       "<div>\n",
       "<style scoped>\n",
       "    .dataframe tbody tr th:only-of-type {\n",
       "        vertical-align: middle;\n",
       "    }\n",
       "\n",
       "    .dataframe tbody tr th {\n",
       "        vertical-align: top;\n",
       "    }\n",
       "\n",
       "    .dataframe thead th {\n",
       "        text-align: right;\n",
       "    }\n",
       "</style>\n",
       "<table border=\"1\" class=\"dataframe\">\n",
       "  <thead>\n",
       "    <tr style=\"text-align: right;\">\n",
       "      <th></th>\n",
       "      <th>Sex</th>\n",
       "      <th>Marital status</th>\n",
       "      <th>Age</th>\n",
       "      <th>Education</th>\n",
       "      <th>Income</th>\n",
       "      <th>Occupation</th>\n",
       "      <th>Settlement size</th>\n",
       "      <th>Claster</th>\n",
       "    </tr>\n",
       "  </thead>\n",
       "  <tbody>\n",
       "    <tr>\n",
       "      <th>0</th>\n",
       "      <td>-0.917399</td>\n",
       "      <td>-0.993024</td>\n",
       "      <td>2.653614</td>\n",
       "      <td>1.604323</td>\n",
       "      <td>0.097524</td>\n",
       "      <td>0.296823</td>\n",
       "      <td>1.552326</td>\n",
       "      <td>7</td>\n",
       "    </tr>\n",
       "    <tr>\n",
       "      <th>1</th>\n",
       "      <td>1.090038</td>\n",
       "      <td>1.007025</td>\n",
       "      <td>-1.187132</td>\n",
       "      <td>-0.063372</td>\n",
       "      <td>0.782654</td>\n",
       "      <td>0.296823</td>\n",
       "      <td>1.552326</td>\n",
       "      <td>1</td>\n",
       "    </tr>\n",
       "    <tr>\n",
       "      <th>2</th>\n",
       "      <td>-0.917399</td>\n",
       "      <td>-0.993024</td>\n",
       "      <td>1.117316</td>\n",
       "      <td>-0.063372</td>\n",
       "      <td>-0.833202</td>\n",
       "      <td>-1.269525</td>\n",
       "      <td>-0.909730</td>\n",
       "      <td>0</td>\n",
       "    </tr>\n",
       "    <tr>\n",
       "      <th>3</th>\n",
       "      <td>-0.917399</td>\n",
       "      <td>-0.993024</td>\n",
       "      <td>0.775916</td>\n",
       "      <td>-0.063372</td>\n",
       "      <td>1.328386</td>\n",
       "      <td>0.296823</td>\n",
       "      <td>0.321298</td>\n",
       "      <td>7</td>\n",
       "    </tr>\n",
       "    <tr>\n",
       "      <th>4</th>\n",
       "      <td>-0.917399</td>\n",
       "      <td>-0.993024</td>\n",
       "      <td>1.458716</td>\n",
       "      <td>-0.063372</td>\n",
       "      <td>0.736932</td>\n",
       "      <td>0.296823</td>\n",
       "      <td>0.321298</td>\n",
       "      <td>7</td>\n",
       "    </tr>\n",
       "  </tbody>\n",
       "</table>\n",
       "</div>"
      ],
      "text/plain": [
       "        Sex  Marital status       Age  Education    Income  Occupation  \\\n",
       "0 -0.917399       -0.993024  2.653614   1.604323  0.097524    0.296823   \n",
       "1  1.090038        1.007025 -1.187132  -0.063372  0.782654    0.296823   \n",
       "2 -0.917399       -0.993024  1.117316  -0.063372 -0.833202   -1.269525   \n",
       "3 -0.917399       -0.993024  0.775916  -0.063372  1.328386    0.296823   \n",
       "4 -0.917399       -0.993024  1.458716  -0.063372  0.736932    0.296823   \n",
       "\n",
       "   Settlement size  Claster  \n",
       "0         1.552326        7  \n",
       "1         1.552326        1  \n",
       "2        -0.909730        0  \n",
       "3         0.321298        7  \n",
       "4         0.321298        7  "
      ]
     },
     "execution_count": 25,
     "metadata": {},
     "output_type": "execute_result"
    }
   ],
   "source": [
    "kmeans = KMeans(n_clusters=9)\n",
    "result_kmeans3 = kmeans.fit(X)\n",
    "df_kmeans = X.copy()\n",
    "df_kmeans['Claster'] = result_kmeans3.labels_\n",
    "df_kmeans.head()\n",
    "\n"
   ]
  },
  {
   "cell_type": "code",
   "execution_count": 26,
   "metadata": {},
   "outputs": [
    {
     "name": "stdout",
     "output_type": "stream",
     "text": [
      "0.2923070949771835\n"
     ]
    }
   ],
   "source": [
    "s = silhouette_score(X, result_kmeans3.labels_)\n",
    "print(s)\n",
    "lst_siluete.append(\"kmeans 9 кластеров = \" + str(s))\n"
   ]
  },
  {
   "cell_type": "code",
   "execution_count": 27,
   "metadata": {},
   "outputs": [
    {
     "data": {
      "text/html": [
       "<div>\n",
       "<style scoped>\n",
       "    .dataframe tbody tr th:only-of-type {\n",
       "        vertical-align: middle;\n",
       "    }\n",
       "\n",
       "    .dataframe tbody tr th {\n",
       "        vertical-align: top;\n",
       "    }\n",
       "\n",
       "    .dataframe thead th {\n",
       "        text-align: right;\n",
       "    }\n",
       "</style>\n",
       "<table border=\"1\" class=\"dataframe\">\n",
       "  <thead>\n",
       "    <tr style=\"text-align: right;\">\n",
       "      <th></th>\n",
       "      <th>Sex</th>\n",
       "      <th>Marital status</th>\n",
       "      <th>Age</th>\n",
       "      <th>Education</th>\n",
       "      <th>Income</th>\n",
       "      <th>Occupation</th>\n",
       "      <th>Settlement size</th>\n",
       "      <th>Claster</th>\n",
       "    </tr>\n",
       "  </thead>\n",
       "  <tbody>\n",
       "    <tr>\n",
       "      <th>0</th>\n",
       "      <td>-0.917399</td>\n",
       "      <td>-0.993024</td>\n",
       "      <td>2.653614</td>\n",
       "      <td>1.604323</td>\n",
       "      <td>0.097524</td>\n",
       "      <td>0.296823</td>\n",
       "      <td>1.552326</td>\n",
       "      <td>0</td>\n",
       "    </tr>\n",
       "    <tr>\n",
       "      <th>1</th>\n",
       "      <td>1.090038</td>\n",
       "      <td>1.007025</td>\n",
       "      <td>-1.187132</td>\n",
       "      <td>-0.063372</td>\n",
       "      <td>0.782654</td>\n",
       "      <td>0.296823</td>\n",
       "      <td>1.552326</td>\n",
       "      <td>0</td>\n",
       "    </tr>\n",
       "    <tr>\n",
       "      <th>2</th>\n",
       "      <td>-0.917399</td>\n",
       "      <td>-0.993024</td>\n",
       "      <td>1.117316</td>\n",
       "      <td>-0.063372</td>\n",
       "      <td>-0.833202</td>\n",
       "      <td>-1.269525</td>\n",
       "      <td>-0.909730</td>\n",
       "      <td>1</td>\n",
       "    </tr>\n",
       "    <tr>\n",
       "      <th>3</th>\n",
       "      <td>-0.917399</td>\n",
       "      <td>-0.993024</td>\n",
       "      <td>0.775916</td>\n",
       "      <td>-0.063372</td>\n",
       "      <td>1.328386</td>\n",
       "      <td>0.296823</td>\n",
       "      <td>0.321298</td>\n",
       "      <td>0</td>\n",
       "    </tr>\n",
       "    <tr>\n",
       "      <th>4</th>\n",
       "      <td>-0.917399</td>\n",
       "      <td>-0.993024</td>\n",
       "      <td>1.458716</td>\n",
       "      <td>-0.063372</td>\n",
       "      <td>0.736932</td>\n",
       "      <td>0.296823</td>\n",
       "      <td>0.321298</td>\n",
       "      <td>0</td>\n",
       "    </tr>\n",
       "  </tbody>\n",
       "</table>\n",
       "</div>"
      ],
      "text/plain": [
       "        Sex  Marital status       Age  Education    Income  Occupation  \\\n",
       "0 -0.917399       -0.993024  2.653614   1.604323  0.097524    0.296823   \n",
       "1  1.090038        1.007025 -1.187132  -0.063372  0.782654    0.296823   \n",
       "2 -0.917399       -0.993024  1.117316  -0.063372 -0.833202   -1.269525   \n",
       "3 -0.917399       -0.993024  0.775916  -0.063372  1.328386    0.296823   \n",
       "4 -0.917399       -0.993024  1.458716  -0.063372  0.736932    0.296823   \n",
       "\n",
       "   Settlement size  Claster  \n",
       "0         1.552326        0  \n",
       "1         1.552326        0  \n",
       "2        -0.909730        1  \n",
       "3         0.321298        0  \n",
       "4         0.321298        0  "
      ]
     },
     "execution_count": 27,
     "metadata": {},
     "output_type": "execute_result"
    }
   ],
   "source": [
    "kmeans = KMeans(n_clusters=2)\n",
    "result_kmeans3 = kmeans.fit(X)\n",
    "df_kmeans = X.copy()\n",
    "df_kmeans['Claster'] = result_kmeans3.labels_\n",
    "df_kmeans.head()\n",
    "\n"
   ]
  },
  {
   "cell_type": "code",
   "execution_count": 28,
   "metadata": {},
   "outputs": [
    {
     "name": "stdout",
     "output_type": "stream",
     "text": [
      "0.24820216342164297\n"
     ]
    }
   ],
   "source": [
    "s = silhouette_score(X, result_kmeans3.labels_)\n",
    "print(s)\n",
    "lst_siluete.append(\"kmeans 2 кластеров = \" + str(s))\n"
   ]
  },
  {
   "cell_type": "code",
   "execution_count": 29,
   "metadata": {},
   "outputs": [],
   "source": [
    "# sns.catplot(x=\"Claster\", y=\"Age\", data=df_kmeans)\n"
   ]
  },
  {
   "cell_type": "code",
   "execution_count": 30,
   "metadata": {},
   "outputs": [],
   "source": [
    "# sns.catplot(x=\"Claster\", y=\"Income\", data=df_kmeans)\n"
   ]
  },
  {
   "cell_type": "code",
   "execution_count": 31,
   "metadata": {},
   "outputs": [],
   "source": [
    "# plt.scatter(df[\"Age\"], df[\"Income\"], c=result_kmeans3.labels_)\n"
   ]
  },
  {
   "cell_type": "markdown",
   "metadata": {},
   "source": [
    "## Иерархическая кластеризация"
   ]
  },
  {
   "cell_type": "code",
   "execution_count": 32,
   "metadata": {},
   "outputs": [
    {
     "data": {
      "text/plain": [
       "[<matplotlib.lines.Line2D at 0x2753f3637c0>]"
      ]
     },
     "execution_count": 32,
     "metadata": {},
     "output_type": "execute_result"
    },
    {
     "data": {
      "image/png": "[encoded data removed]",
      "text/plain": [
       "<Figure size 432x288 with 1 Axes>"
      ]
     },
     "metadata": {
      "needs_background": "light"
     },
     "output_type": "display_data"
    }
   ],
   "source": [
    "from sklearn.cluster import AgglomerativeClustering\n",
    "# clf = AgglomerativeClustering(n_clusters=3)\n",
    "# result_aggl = clf.fit(X)\n",
    "# labels = result_aggl.labels_\n",
    "\n",
    "siluete = []\n",
    "for k in range(2, 11):\n",
    "    clf = AgglomerativeClustering(n_clusters=k)\n",
    "    result_aggl = clf.fit(X)\n",
    "    siluete.append(silhouette_score(X, result_aggl.labels_))\n",
    "plt.plot(range(2, 11), siluete)\n"
   ]
  },
  {
   "cell_type": "markdown",
   "metadata": {},
   "source": [
    "Возможно, подходящее число кластеров в данном случае = 5. Пока проверим на 3, чтобы сравнить с kmeans на трех"
   ]
  },
  {
   "cell_type": "code",
   "execution_count": 33,
   "metadata": {},
   "outputs": [
    {
     "data": {
      "text/html": [
       "<div>\n",
       "<style scoped>\n",
       "    .dataframe tbody tr th:only-of-type {\n",
       "        vertical-align: middle;\n",
       "    }\n",
       "\n",
       "    .dataframe tbody tr th {\n",
       "        vertical-align: top;\n",
       "    }\n",
       "\n",
       "    .dataframe thead th {\n",
       "        text-align: right;\n",
       "    }\n",
       "</style>\n",
       "<table border=\"1\" class=\"dataframe\">\n",
       "  <thead>\n",
       "    <tr style=\"text-align: right;\">\n",
       "      <th></th>\n",
       "      <th>Sex</th>\n",
       "      <th>Marital status</th>\n",
       "      <th>Age</th>\n",
       "      <th>Education</th>\n",
       "      <th>Income</th>\n",
       "      <th>Occupation</th>\n",
       "      <th>Settlement size</th>\n",
       "      <th>Claster</th>\n",
       "    </tr>\n",
       "  </thead>\n",
       "  <tbody>\n",
       "    <tr>\n",
       "      <th>0</th>\n",
       "      <td>-0.917399</td>\n",
       "      <td>-0.993024</td>\n",
       "      <td>2.653614</td>\n",
       "      <td>1.604323</td>\n",
       "      <td>0.097524</td>\n",
       "      <td>0.296823</td>\n",
       "      <td>1.552326</td>\n",
       "      <td>2</td>\n",
       "    </tr>\n",
       "    <tr>\n",
       "      <th>1</th>\n",
       "      <td>1.090038</td>\n",
       "      <td>1.007025</td>\n",
       "      <td>-1.187132</td>\n",
       "      <td>-0.063372</td>\n",
       "      <td>0.782654</td>\n",
       "      <td>0.296823</td>\n",
       "      <td>1.552326</td>\n",
       "      <td>0</td>\n",
       "    </tr>\n",
       "    <tr>\n",
       "      <th>2</th>\n",
       "      <td>-0.917399</td>\n",
       "      <td>-0.993024</td>\n",
       "      <td>1.117316</td>\n",
       "      <td>-0.063372</td>\n",
       "      <td>-0.833202</td>\n",
       "      <td>-1.269525</td>\n",
       "      <td>-0.909730</td>\n",
       "      <td>0</td>\n",
       "    </tr>\n",
       "    <tr>\n",
       "      <th>3</th>\n",
       "      <td>-0.917399</td>\n",
       "      <td>-0.993024</td>\n",
       "      <td>0.775916</td>\n",
       "      <td>-0.063372</td>\n",
       "      <td>1.328386</td>\n",
       "      <td>0.296823</td>\n",
       "      <td>0.321298</td>\n",
       "      <td>1</td>\n",
       "    </tr>\n",
       "    <tr>\n",
       "      <th>4</th>\n",
       "      <td>-0.917399</td>\n",
       "      <td>-0.993024</td>\n",
       "      <td>1.458716</td>\n",
       "      <td>-0.063372</td>\n",
       "      <td>0.736932</td>\n",
       "      <td>0.296823</td>\n",
       "      <td>0.321298</td>\n",
       "      <td>1</td>\n",
       "    </tr>\n",
       "  </tbody>\n",
       "</table>\n",
       "</div>"
      ],
      "text/plain": [
       "        Sex  Marital status       Age  Education    Income  Occupation  \\\n",
       "0 -0.917399       -0.993024  2.653614   1.604323  0.097524    0.296823   \n",
       "1  1.090038        1.007025 -1.187132  -0.063372  0.782654    0.296823   \n",
       "2 -0.917399       -0.993024  1.117316  -0.063372 -0.833202   -1.269525   \n",
       "3 -0.917399       -0.993024  0.775916  -0.063372  1.328386    0.296823   \n",
       "4 -0.917399       -0.993024  1.458716  -0.063372  0.736932    0.296823   \n",
       "\n",
       "   Settlement size  Claster  \n",
       "0         1.552326        2  \n",
       "1         1.552326        0  \n",
       "2        -0.909730        0  \n",
       "3         0.321298        1  \n",
       "4         0.321298        1  "
      ]
     },
     "execution_count": 33,
     "metadata": {},
     "output_type": "execute_result"
    }
   ],
   "source": [
    "clf = AgglomerativeClustering(n_clusters=3)\n",
    "result_aggl = clf.fit(X)\n",
    "df_aggl = X.copy()\n",
    "df_aggl['Claster'] = result_aggl.labels_\n",
    "df_aggl.head()\n"
   ]
  },
  {
   "cell_type": "code",
   "execution_count": 34,
   "metadata": {},
   "outputs": [
    {
     "name": "stdout",
     "output_type": "stream",
     "text": [
      "0.24932369297836884\n"
     ]
    }
   ],
   "source": [
    "s = silhouette_score(X, result_aggl.labels_)\n",
    "print(s)\n",
    "lst_siluete.append(\"aggl 3 кластера = \" + str(s))\n"
   ]
  },
  {
   "cell_type": "code",
   "execution_count": 35,
   "metadata": {},
   "outputs": [
    {
     "data": {
      "text/html": [
       "<div>\n",
       "<style scoped>\n",
       "    .dataframe tbody tr th:only-of-type {\n",
       "        vertical-align: middle;\n",
       "    }\n",
       "\n",
       "    .dataframe tbody tr th {\n",
       "        vertical-align: top;\n",
       "    }\n",
       "\n",
       "    .dataframe thead th {\n",
       "        text-align: right;\n",
       "    }\n",
       "</style>\n",
       "<table border=\"1\" class=\"dataframe\">\n",
       "  <thead>\n",
       "    <tr style=\"text-align: right;\">\n",
       "      <th></th>\n",
       "      <th>Sex</th>\n",
       "      <th>Marital status</th>\n",
       "      <th>Age</th>\n",
       "      <th>Education</th>\n",
       "      <th>Income</th>\n",
       "      <th>Occupation</th>\n",
       "      <th>Settlement size</th>\n",
       "      <th>Claster</th>\n",
       "    </tr>\n",
       "  </thead>\n",
       "  <tbody>\n",
       "    <tr>\n",
       "      <th>0</th>\n",
       "      <td>-0.917399</td>\n",
       "      <td>-0.993024</td>\n",
       "      <td>2.653614</td>\n",
       "      <td>1.604323</td>\n",
       "      <td>0.097524</td>\n",
       "      <td>0.296823</td>\n",
       "      <td>1.552326</td>\n",
       "      <td>0</td>\n",
       "    </tr>\n",
       "    <tr>\n",
       "      <th>1</th>\n",
       "      <td>1.090038</td>\n",
       "      <td>1.007025</td>\n",
       "      <td>-1.187132</td>\n",
       "      <td>-0.063372</td>\n",
       "      <td>0.782654</td>\n",
       "      <td>0.296823</td>\n",
       "      <td>1.552326</td>\n",
       "      <td>1</td>\n",
       "    </tr>\n",
       "    <tr>\n",
       "      <th>2</th>\n",
       "      <td>-0.917399</td>\n",
       "      <td>-0.993024</td>\n",
       "      <td>1.117316</td>\n",
       "      <td>-0.063372</td>\n",
       "      <td>-0.833202</td>\n",
       "      <td>-1.269525</td>\n",
       "      <td>-0.909730</td>\n",
       "      <td>1</td>\n",
       "    </tr>\n",
       "    <tr>\n",
       "      <th>3</th>\n",
       "      <td>-0.917399</td>\n",
       "      <td>-0.993024</td>\n",
       "      <td>0.775916</td>\n",
       "      <td>-0.063372</td>\n",
       "      <td>1.328386</td>\n",
       "      <td>0.296823</td>\n",
       "      <td>0.321298</td>\n",
       "      <td>0</td>\n",
       "    </tr>\n",
       "    <tr>\n",
       "      <th>4</th>\n",
       "      <td>-0.917399</td>\n",
       "      <td>-0.993024</td>\n",
       "      <td>1.458716</td>\n",
       "      <td>-0.063372</td>\n",
       "      <td>0.736932</td>\n",
       "      <td>0.296823</td>\n",
       "      <td>0.321298</td>\n",
       "      <td>0</td>\n",
       "    </tr>\n",
       "  </tbody>\n",
       "</table>\n",
       "</div>"
      ],
      "text/plain": [
       "        Sex  Marital status       Age  Education    Income  Occupation  \\\n",
       "0 -0.917399       -0.993024  2.653614   1.604323  0.097524    0.296823   \n",
       "1  1.090038        1.007025 -1.187132  -0.063372  0.782654    0.296823   \n",
       "2 -0.917399       -0.993024  1.117316  -0.063372 -0.833202   -1.269525   \n",
       "3 -0.917399       -0.993024  0.775916  -0.063372  1.328386    0.296823   \n",
       "4 -0.917399       -0.993024  1.458716  -0.063372  0.736932    0.296823   \n",
       "\n",
       "   Settlement size  Claster  \n",
       "0         1.552326        0  \n",
       "1         1.552326        1  \n",
       "2        -0.909730        1  \n",
       "3         0.321298        0  \n",
       "4         0.321298        0  "
      ]
     },
     "execution_count": 35,
     "metadata": {},
     "output_type": "execute_result"
    }
   ],
   "source": [
    "clf = AgglomerativeClustering(n_clusters=2)\n",
    "result_aggl = clf.fit(X)\n",
    "df_aggl = X.copy()\n",
    "df_aggl['Claster'] = result_aggl.labels_\n",
    "df_aggl.head()\n"
   ]
  },
  {
   "cell_type": "code",
   "execution_count": 36,
   "metadata": {},
   "outputs": [
    {
     "name": "stdout",
     "output_type": "stream",
     "text": [
      "0.23099458010188773\n"
     ]
    }
   ],
   "source": [
    "s = silhouette_score(X, result_aggl.labels_)\n",
    "print(s)\n",
    "lst_siluete.append(\"aggl 2 кластера = \" + str(s))\n"
   ]
  },
  {
   "cell_type": "markdown",
   "metadata": {},
   "source": [
    "Те же графики, которые были для kmeans 3"
   ]
  },
  {
   "cell_type": "code",
   "execution_count": 37,
   "metadata": {},
   "outputs": [],
   "source": [
    "# sns.catplot(x=\"Claster\", y=\"Age\", data=df_aggl)"
   ]
  },
  {
   "cell_type": "code",
   "execution_count": 38,
   "metadata": {},
   "outputs": [],
   "source": [
    "# sns.catplot(x=\"Claster\", y=\"Income\", data=df_aggl)\n"
   ]
  },
  {
   "cell_type": "code",
   "execution_count": 39,
   "metadata": {},
   "outputs": [],
   "source": [
    "# plt.scatter(df[\"Age\"], df[\"Income\"], c=result_aggl.labels_)\n"
   ]
  },
  {
   "cell_type": "markdown",
   "metadata": {},
   "source": [
    "Попробуем иерархическую для 5 кластеров"
   ]
  },
  {
   "cell_type": "code",
   "execution_count": 40,
   "metadata": {},
   "outputs": [
    {
     "data": {
      "text/html": [
       "<div>\n",
       "<style scoped>\n",
       "    .dataframe tbody tr th:only-of-type {\n",
       "        vertical-align: middle;\n",
       "    }\n",
       "\n",
       "    .dataframe tbody tr th {\n",
       "        vertical-align: top;\n",
       "    }\n",
       "\n",
       "    .dataframe thead th {\n",
       "        text-align: right;\n",
       "    }\n",
       "</style>\n",
       "<table border=\"1\" class=\"dataframe\">\n",
       "  <thead>\n",
       "    <tr style=\"text-align: right;\">\n",
       "      <th></th>\n",
       "      <th>Sex</th>\n",
       "      <th>Marital status</th>\n",
       "      <th>Age</th>\n",
       "      <th>Education</th>\n",
       "      <th>Income</th>\n",
       "      <th>Occupation</th>\n",
       "      <th>Settlement size</th>\n",
       "      <th>Claster</th>\n",
       "    </tr>\n",
       "  </thead>\n",
       "  <tbody>\n",
       "    <tr>\n",
       "      <th>0</th>\n",
       "      <td>-0.917399</td>\n",
       "      <td>-0.993024</td>\n",
       "      <td>2.653614</td>\n",
       "      <td>1.604323</td>\n",
       "      <td>0.097524</td>\n",
       "      <td>0.296823</td>\n",
       "      <td>1.552326</td>\n",
       "      <td>2</td>\n",
       "    </tr>\n",
       "    <tr>\n",
       "      <th>1</th>\n",
       "      <td>1.090038</td>\n",
       "      <td>1.007025</td>\n",
       "      <td>-1.187132</td>\n",
       "      <td>-0.063372</td>\n",
       "      <td>0.782654</td>\n",
       "      <td>0.296823</td>\n",
       "      <td>1.552326</td>\n",
       "      <td>3</td>\n",
       "    </tr>\n",
       "    <tr>\n",
       "      <th>2</th>\n",
       "      <td>-0.917399</td>\n",
       "      <td>-0.993024</td>\n",
       "      <td>1.117316</td>\n",
       "      <td>-0.063372</td>\n",
       "      <td>-0.833202</td>\n",
       "      <td>-1.269525</td>\n",
       "      <td>-0.909730</td>\n",
       "      <td>4</td>\n",
       "    </tr>\n",
       "    <tr>\n",
       "      <th>3</th>\n",
       "      <td>-0.917399</td>\n",
       "      <td>-0.993024</td>\n",
       "      <td>0.775916</td>\n",
       "      <td>-0.063372</td>\n",
       "      <td>1.328386</td>\n",
       "      <td>0.296823</td>\n",
       "      <td>0.321298</td>\n",
       "      <td>0</td>\n",
       "    </tr>\n",
       "    <tr>\n",
       "      <th>4</th>\n",
       "      <td>-0.917399</td>\n",
       "      <td>-0.993024</td>\n",
       "      <td>1.458716</td>\n",
       "      <td>-0.063372</td>\n",
       "      <td>0.736932</td>\n",
       "      <td>0.296823</td>\n",
       "      <td>0.321298</td>\n",
       "      <td>0</td>\n",
       "    </tr>\n",
       "  </tbody>\n",
       "</table>\n",
       "</div>"
      ],
      "text/plain": [
       "        Sex  Marital status       Age  Education    Income  Occupation  \\\n",
       "0 -0.917399       -0.993024  2.653614   1.604323  0.097524    0.296823   \n",
       "1  1.090038        1.007025 -1.187132  -0.063372  0.782654    0.296823   \n",
       "2 -0.917399       -0.993024  1.117316  -0.063372 -0.833202   -1.269525   \n",
       "3 -0.917399       -0.993024  0.775916  -0.063372  1.328386    0.296823   \n",
       "4 -0.917399       -0.993024  1.458716  -0.063372  0.736932    0.296823   \n",
       "\n",
       "   Settlement size  Claster  \n",
       "0         1.552326        2  \n",
       "1         1.552326        3  \n",
       "2        -0.909730        4  \n",
       "3         0.321298        0  \n",
       "4         0.321298        0  "
      ]
     },
     "execution_count": 40,
     "metadata": {},
     "output_type": "execute_result"
    }
   ],
   "source": [
    "clf = AgglomerativeClustering(n_clusters=5)\n",
    "result_aggl = clf.fit(X)\n",
    "df_aggl = X.copy()\n",
    "df_aggl['Claster'] = result_aggl.labels_\n",
    "df_aggl.head()\n"
   ]
  },
  {
   "cell_type": "code",
   "execution_count": 41,
   "metadata": {},
   "outputs": [
    {
     "name": "stdout",
     "output_type": "stream",
     "text": [
      "0.261944083191251\n"
     ]
    }
   ],
   "source": [
    "s = silhouette_score(X, result_aggl.labels_)\n",
    "print(s)\n",
    "lst_siluete.append(\"aggl 5 кластеров = \" + str(s))\n"
   ]
  },
  {
   "cell_type": "code",
   "execution_count": 42,
   "metadata": {},
   "outputs": [],
   "source": [
    "# sns.catplot(x=\"Claster\", y=\"Age\", data=df_aggl)"
   ]
  },
  {
   "cell_type": "code",
   "execution_count": 43,
   "metadata": {},
   "outputs": [],
   "source": [
    "# sns.catplot(x=\"Claster\", y=\"Income\", data=df_aggl)"
   ]
  },
  {
   "cell_type": "code",
   "execution_count": 44,
   "metadata": {},
   "outputs": [],
   "source": [
    "# plt.scatter(df[\"Age\"], df[\"Income\"], c=result_aggl.labels_)"
   ]
  },
  {
   "cell_type": "markdown",
   "metadata": {},
   "source": [
    "Проба на 10 кластерах"
   ]
  },
  {
   "cell_type": "code",
   "execution_count": 45,
   "metadata": {},
   "outputs": [
    {
     "data": {
      "text/html": [
       "<div>\n",
       "<style scoped>\n",
       "    .dataframe tbody tr th:only-of-type {\n",
       "        vertical-align: middle;\n",
       "    }\n",
       "\n",
       "    .dataframe tbody tr th {\n",
       "        vertical-align: top;\n",
       "    }\n",
       "\n",
       "    .dataframe thead th {\n",
       "        text-align: right;\n",
       "    }\n",
       "</style>\n",
       "<table border=\"1\" class=\"dataframe\">\n",
       "  <thead>\n",
       "    <tr style=\"text-align: right;\">\n",
       "      <th></th>\n",
       "      <th>Sex</th>\n",
       "      <th>Marital status</th>\n",
       "      <th>Age</th>\n",
       "      <th>Education</th>\n",
       "      <th>Income</th>\n",
       "      <th>Occupation</th>\n",
       "      <th>Settlement size</th>\n",
       "      <th>Claster</th>\n",
       "    </tr>\n",
       "  </thead>\n",
       "  <tbody>\n",
       "    <tr>\n",
       "      <th>0</th>\n",
       "      <td>-0.917399</td>\n",
       "      <td>-0.993024</td>\n",
       "      <td>2.653614</td>\n",
       "      <td>1.604323</td>\n",
       "      <td>0.097524</td>\n",
       "      <td>0.296823</td>\n",
       "      <td>1.552326</td>\n",
       "      <td>4</td>\n",
       "    </tr>\n",
       "    <tr>\n",
       "      <th>1</th>\n",
       "      <td>1.090038</td>\n",
       "      <td>1.007025</td>\n",
       "      <td>-1.187132</td>\n",
       "      <td>-0.063372</td>\n",
       "      <td>0.782654</td>\n",
       "      <td>0.296823</td>\n",
       "      <td>1.552326</td>\n",
       "      <td>1</td>\n",
       "    </tr>\n",
       "    <tr>\n",
       "      <th>2</th>\n",
       "      <td>-0.917399</td>\n",
       "      <td>-0.993024</td>\n",
       "      <td>1.117316</td>\n",
       "      <td>-0.063372</td>\n",
       "      <td>-0.833202</td>\n",
       "      <td>-1.269525</td>\n",
       "      <td>-0.909730</td>\n",
       "      <td>2</td>\n",
       "    </tr>\n",
       "    <tr>\n",
       "      <th>3</th>\n",
       "      <td>-0.917399</td>\n",
       "      <td>-0.993024</td>\n",
       "      <td>0.775916</td>\n",
       "      <td>-0.063372</td>\n",
       "      <td>1.328386</td>\n",
       "      <td>0.296823</td>\n",
       "      <td>0.321298</td>\n",
       "      <td>0</td>\n",
       "    </tr>\n",
       "    <tr>\n",
       "      <th>4</th>\n",
       "      <td>-0.917399</td>\n",
       "      <td>-0.993024</td>\n",
       "      <td>1.458716</td>\n",
       "      <td>-0.063372</td>\n",
       "      <td>0.736932</td>\n",
       "      <td>0.296823</td>\n",
       "      <td>0.321298</td>\n",
       "      <td>0</td>\n",
       "    </tr>\n",
       "  </tbody>\n",
       "</table>\n",
       "</div>"
      ],
      "text/plain": [
       "        Sex  Marital status       Age  Education    Income  Occupation  \\\n",
       "0 -0.917399       -0.993024  2.653614   1.604323  0.097524    0.296823   \n",
       "1  1.090038        1.007025 -1.187132  -0.063372  0.782654    0.296823   \n",
       "2 -0.917399       -0.993024  1.117316  -0.063372 -0.833202   -1.269525   \n",
       "3 -0.917399       -0.993024  0.775916  -0.063372  1.328386    0.296823   \n",
       "4 -0.917399       -0.993024  1.458716  -0.063372  0.736932    0.296823   \n",
       "\n",
       "   Settlement size  Claster  \n",
       "0         1.552326        4  \n",
       "1         1.552326        1  \n",
       "2        -0.909730        2  \n",
       "3         0.321298        0  \n",
       "4         0.321298        0  "
      ]
     },
     "execution_count": 45,
     "metadata": {},
     "output_type": "execute_result"
    }
   ],
   "source": [
    "clf = AgglomerativeClustering(n_clusters=10)\n",
    "result_aggl = clf.fit(X)\n",
    "df_aggl = X.copy()\n",
    "df_aggl['Claster'] = result_aggl.labels_\n",
    "df_aggl.head()\n"
   ]
  },
  {
   "cell_type": "code",
   "execution_count": 46,
   "metadata": {},
   "outputs": [
    {
     "data": {
      "text/plain": [
       "0.31286631510337204"
      ]
     },
     "execution_count": 46,
     "metadata": {},
     "output_type": "execute_result"
    }
   ],
   "source": [
    "silhouette_score(X, result_aggl.labels_)\n"
   ]
  },
  {
   "cell_type": "markdown",
   "metadata": {},
   "source": [
    "Проба на 9 кластерах"
   ]
  },
  {
   "cell_type": "code",
   "execution_count": 47,
   "metadata": {},
   "outputs": [
    {
     "data": {
      "text/html": [
       "<div>\n",
       "<style scoped>\n",
       "    .dataframe tbody tr th:only-of-type {\n",
       "        vertical-align: middle;\n",
       "    }\n",
       "\n",
       "    .dataframe tbody tr th {\n",
       "        vertical-align: top;\n",
       "    }\n",
       "\n",
       "    .dataframe thead th {\n",
       "        text-align: right;\n",
       "    }\n",
       "</style>\n",
       "<table border=\"1\" class=\"dataframe\">\n",
       "  <thead>\n",
       "    <tr style=\"text-align: right;\">\n",
       "      <th></th>\n",
       "      <th>Sex</th>\n",
       "      <th>Marital status</th>\n",
       "      <th>Age</th>\n",
       "      <th>Education</th>\n",
       "      <th>Income</th>\n",
       "      <th>Occupation</th>\n",
       "      <th>Settlement size</th>\n",
       "      <th>Claster</th>\n",
       "    </tr>\n",
       "  </thead>\n",
       "  <tbody>\n",
       "    <tr>\n",
       "      <th>0</th>\n",
       "      <td>-0.917399</td>\n",
       "      <td>-0.993024</td>\n",
       "      <td>2.653614</td>\n",
       "      <td>1.604323</td>\n",
       "      <td>0.097524</td>\n",
       "      <td>0.296823</td>\n",
       "      <td>1.552326</td>\n",
       "      <td>0</td>\n",
       "    </tr>\n",
       "    <tr>\n",
       "      <th>1</th>\n",
       "      <td>1.090038</td>\n",
       "      <td>1.007025</td>\n",
       "      <td>-1.187132</td>\n",
       "      <td>-0.063372</td>\n",
       "      <td>0.782654</td>\n",
       "      <td>0.296823</td>\n",
       "      <td>1.552326</td>\n",
       "      <td>3</td>\n",
       "    </tr>\n",
       "    <tr>\n",
       "      <th>2</th>\n",
       "      <td>-0.917399</td>\n",
       "      <td>-0.993024</td>\n",
       "      <td>1.117316</td>\n",
       "      <td>-0.063372</td>\n",
       "      <td>-0.833202</td>\n",
       "      <td>-1.269525</td>\n",
       "      <td>-0.909730</td>\n",
       "      <td>2</td>\n",
       "    </tr>\n",
       "    <tr>\n",
       "      <th>3</th>\n",
       "      <td>-0.917399</td>\n",
       "      <td>-0.993024</td>\n",
       "      <td>0.775916</td>\n",
       "      <td>-0.063372</td>\n",
       "      <td>1.328386</td>\n",
       "      <td>0.296823</td>\n",
       "      <td>0.321298</td>\n",
       "      <td>1</td>\n",
       "    </tr>\n",
       "    <tr>\n",
       "      <th>4</th>\n",
       "      <td>-0.917399</td>\n",
       "      <td>-0.993024</td>\n",
       "      <td>1.458716</td>\n",
       "      <td>-0.063372</td>\n",
       "      <td>0.736932</td>\n",
       "      <td>0.296823</td>\n",
       "      <td>0.321298</td>\n",
       "      <td>1</td>\n",
       "    </tr>\n",
       "  </tbody>\n",
       "</table>\n",
       "</div>"
      ],
      "text/plain": [
       "        Sex  Marital status       Age  Education    Income  Occupation  \\\n",
       "0 -0.917399       -0.993024  2.653614   1.604323  0.097524    0.296823   \n",
       "1  1.090038        1.007025 -1.187132  -0.063372  0.782654    0.296823   \n",
       "2 -0.917399       -0.993024  1.117316  -0.063372 -0.833202   -1.269525   \n",
       "3 -0.917399       -0.993024  0.775916  -0.063372  1.328386    0.296823   \n",
       "4 -0.917399       -0.993024  1.458716  -0.063372  0.736932    0.296823   \n",
       "\n",
       "   Settlement size  Claster  \n",
       "0         1.552326        0  \n",
       "1         1.552326        3  \n",
       "2        -0.909730        2  \n",
       "3         0.321298        1  \n",
       "4         0.321298        1  "
      ]
     },
     "execution_count": 47,
     "metadata": {},
     "output_type": "execute_result"
    }
   ],
   "source": [
    "clf = AgglomerativeClustering(n_clusters=9)\n",
    "result_aggl = clf.fit(X)\n",
    "df_aggl = X.copy()\n",
    "df_aggl['Claster'] = result_aggl.labels_\n",
    "df_aggl.head()"
   ]
  },
  {
   "cell_type": "code",
   "execution_count": 48,
   "metadata": {},
   "outputs": [
    {
     "name": "stdout",
     "output_type": "stream",
     "text": [
      "0.3016137339305145\n"
     ]
    }
   ],
   "source": [
    "s = silhouette_score(X, result_aggl.labels_)\n",
    "print(s)\n",
    "lst_siluete.append(\"aggl 9 кластеров = \" + str(s))\n"
   ]
  },
  {
   "cell_type": "code",
   "execution_count": 49,
   "metadata": {},
   "outputs": [],
   "source": [
    "# sns.catplot(x=\"Claster\", y=\"Age\", data=df_aggl)"
   ]
  },
  {
   "cell_type": "code",
   "execution_count": 50,
   "metadata": {},
   "outputs": [],
   "source": [
    "# sns.catplot(x=\"Claster\", y=\"Income\", data=df_aggl)\n"
   ]
  },
  {
   "cell_type": "code",
   "execution_count": 51,
   "metadata": {},
   "outputs": [],
   "source": [
    "# plt.scatter(df[\"Age\"], df[\"Income\"], c=result_aggl.labels_)\n"
   ]
  },
  {
   "cell_type": "markdown",
   "metadata": {},
   "source": [
    "Результат не лучше. Для сравнения еще возьмем kmeans для 5 кластеров"
   ]
  },
  {
   "cell_type": "code",
   "execution_count": 52,
   "metadata": {},
   "outputs": [
    {
     "data": {
      "text/html": [
       "<div>\n",
       "<style scoped>\n",
       "    .dataframe tbody tr th:only-of-type {\n",
       "        vertical-align: middle;\n",
       "    }\n",
       "\n",
       "    .dataframe tbody tr th {\n",
       "        vertical-align: top;\n",
       "    }\n",
       "\n",
       "    .dataframe thead th {\n",
       "        text-align: right;\n",
       "    }\n",
       "</style>\n",
       "<table border=\"1\" class=\"dataframe\">\n",
       "  <thead>\n",
       "    <tr style=\"text-align: right;\">\n",
       "      <th></th>\n",
       "      <th>Sex</th>\n",
       "      <th>Marital status</th>\n",
       "      <th>Age</th>\n",
       "      <th>Education</th>\n",
       "      <th>Income</th>\n",
       "      <th>Occupation</th>\n",
       "      <th>Settlement size</th>\n",
       "      <th>Claster</th>\n",
       "    </tr>\n",
       "  </thead>\n",
       "  <tbody>\n",
       "    <tr>\n",
       "      <th>0</th>\n",
       "      <td>-0.917399</td>\n",
       "      <td>-0.993024</td>\n",
       "      <td>2.653614</td>\n",
       "      <td>1.604323</td>\n",
       "      <td>0.097524</td>\n",
       "      <td>0.296823</td>\n",
       "      <td>1.552326</td>\n",
       "      <td>0</td>\n",
       "    </tr>\n",
       "    <tr>\n",
       "      <th>1</th>\n",
       "      <td>1.090038</td>\n",
       "      <td>1.007025</td>\n",
       "      <td>-1.187132</td>\n",
       "      <td>-0.063372</td>\n",
       "      <td>0.782654</td>\n",
       "      <td>0.296823</td>\n",
       "      <td>1.552326</td>\n",
       "      <td>2</td>\n",
       "    </tr>\n",
       "    <tr>\n",
       "      <th>2</th>\n",
       "      <td>-0.917399</td>\n",
       "      <td>-0.993024</td>\n",
       "      <td>1.117316</td>\n",
       "      <td>-0.063372</td>\n",
       "      <td>-0.833202</td>\n",
       "      <td>-1.269525</td>\n",
       "      <td>-0.909730</td>\n",
       "      <td>4</td>\n",
       "    </tr>\n",
       "    <tr>\n",
       "      <th>3</th>\n",
       "      <td>-0.917399</td>\n",
       "      <td>-0.993024</td>\n",
       "      <td>0.775916</td>\n",
       "      <td>-0.063372</td>\n",
       "      <td>1.328386</td>\n",
       "      <td>0.296823</td>\n",
       "      <td>0.321298</td>\n",
       "      <td>3</td>\n",
       "    </tr>\n",
       "    <tr>\n",
       "      <th>4</th>\n",
       "      <td>-0.917399</td>\n",
       "      <td>-0.993024</td>\n",
       "      <td>1.458716</td>\n",
       "      <td>-0.063372</td>\n",
       "      <td>0.736932</td>\n",
       "      <td>0.296823</td>\n",
       "      <td>0.321298</td>\n",
       "      <td>3</td>\n",
       "    </tr>\n",
       "  </tbody>\n",
       "</table>\n",
       "</div>"
      ],
      "text/plain": [
       "        Sex  Marital status       Age  Education    Income  Occupation  \\\n",
       "0 -0.917399       -0.993024  2.653614   1.604323  0.097524    0.296823   \n",
       "1  1.090038        1.007025 -1.187132  -0.063372  0.782654    0.296823   \n",
       "2 -0.917399       -0.993024  1.117316  -0.063372 -0.833202   -1.269525   \n",
       "3 -0.917399       -0.993024  0.775916  -0.063372  1.328386    0.296823   \n",
       "4 -0.917399       -0.993024  1.458716  -0.063372  0.736932    0.296823   \n",
       "\n",
       "   Settlement size  Claster  \n",
       "0         1.552326        0  \n",
       "1         1.552326        2  \n",
       "2        -0.909730        4  \n",
       "3         0.321298        3  \n",
       "4         0.321298        3  "
      ]
     },
     "execution_count": 52,
     "metadata": {},
     "output_type": "execute_result"
    }
   ],
   "source": [
    "kmeans = KMeans(n_clusters=5)\n",
    "result_kmeans3 = kmeans.fit(X)\n",
    "df_kmeans = X.copy()\n",
    "df_kmeans['Claster'] = result_kmeans3.labels_\n",
    "df_kmeans.head()"
   ]
  },
  {
   "cell_type": "code",
   "execution_count": 53,
   "metadata": {},
   "outputs": [
    {
     "name": "stdout",
     "output_type": "stream",
     "text": [
      "0.26118553650481047\n"
     ]
    }
   ],
   "source": [
    "s = silhouette_score(X, result_kmeans3.labels_)\n",
    "print(s)\n",
    "lst_siluete.append(\"kmeans 5 кластеров = \" + str(s))\n"
   ]
  },
  {
   "cell_type": "code",
   "execution_count": 54,
   "metadata": {},
   "outputs": [],
   "source": [
    "# sns.catplot(x=\"Claster\", y=\"Age\", data=df_kmeans)"
   ]
  },
  {
   "cell_type": "code",
   "execution_count": 55,
   "metadata": {},
   "outputs": [],
   "source": [
    "# sns.catplot(x=\"Claster\", y=\"Income\", data=df_kmeans)"
   ]
  },
  {
   "cell_type": "code",
   "execution_count": 56,
   "metadata": {},
   "outputs": [],
   "source": [
    "# plt.scatter(df[\"Age\"], df[\"Income\"], c=kmeans.labels_)"
   ]
  },
  {
   "cell_type": "markdown",
   "metadata": {},
   "source": [
    "## DBSCAN"
   ]
  },
  {
   "cell_type": "code",
   "execution_count": 83,
   "metadata": {},
   "outputs": [
    {
     "data": {
      "text/plain": [
       "DBSCAN(eps=0.9122472590644192, min_samples=8)"
      ]
     },
     "execution_count": 83,
     "metadata": {},
     "output_type": "execute_result"
    }
   ],
   "source": [
    "from sklearn.cluster import DBSCAN\n",
    "import random\n",
    "\n",
    "dbscan = DBSCAN(eps=random.random(), min_samples=random.randint(0, 11))\n",
    "\n",
    "dbscan.fit(X)"
   ]
  },
  {
   "cell_type": "code",
   "execution_count": 84,
   "metadata": {},
   "outputs": [
    {
     "data": {
      "text/plain": [
       "array([ 0,  1,  2, ..., 17,  7, 17], dtype=int64)"
      ]
     },
     "execution_count": 84,
     "metadata": {},
     "output_type": "execute_result"
    }
   ],
   "source": [
    "dbscan.labels_"
   ]
  },
  {
   "cell_type": "code",
   "execution_count": 85,
   "metadata": {},
   "outputs": [
    {
     "data": {
      "text/html": [
       "<div>\n",
       "<style scoped>\n",
       "    .dataframe tbody tr th:only-of-type {\n",
       "        vertical-align: middle;\n",
       "    }\n",
       "\n",
       "    .dataframe tbody tr th {\n",
       "        vertical-align: top;\n",
       "    }\n",
       "\n",
       "    .dataframe thead th {\n",
       "        text-align: right;\n",
       "    }\n",
       "</style>\n",
       "<table border=\"1\" class=\"dataframe\">\n",
       "  <thead>\n",
       "    <tr style=\"text-align: right;\">\n",
       "      <th></th>\n",
       "      <th>Sex</th>\n",
       "      <th>Marital status</th>\n",
       "      <th>Age</th>\n",
       "      <th>Education</th>\n",
       "      <th>Income</th>\n",
       "      <th>Occupation</th>\n",
       "      <th>Settlement size</th>\n",
       "      <th>Claster</th>\n",
       "    </tr>\n",
       "  </thead>\n",
       "  <tbody>\n",
       "    <tr>\n",
       "      <th>0</th>\n",
       "      <td>-0.917399</td>\n",
       "      <td>-0.993024</td>\n",
       "      <td>2.653614</td>\n",
       "      <td>1.604323</td>\n",
       "      <td>0.097524</td>\n",
       "      <td>0.296823</td>\n",
       "      <td>1.552326</td>\n",
       "      <td>0</td>\n",
       "    </tr>\n",
       "    <tr>\n",
       "      <th>1</th>\n",
       "      <td>1.090038</td>\n",
       "      <td>1.007025</td>\n",
       "      <td>-1.187132</td>\n",
       "      <td>-0.063372</td>\n",
       "      <td>0.782654</td>\n",
       "      <td>0.296823</td>\n",
       "      <td>1.552326</td>\n",
       "      <td>1</td>\n",
       "    </tr>\n",
       "    <tr>\n",
       "      <th>2</th>\n",
       "      <td>-0.917399</td>\n",
       "      <td>-0.993024</td>\n",
       "      <td>1.117316</td>\n",
       "      <td>-0.063372</td>\n",
       "      <td>-0.833202</td>\n",
       "      <td>-1.269525</td>\n",
       "      <td>-0.909730</td>\n",
       "      <td>2</td>\n",
       "    </tr>\n",
       "    <tr>\n",
       "      <th>3</th>\n",
       "      <td>-0.917399</td>\n",
       "      <td>-0.993024</td>\n",
       "      <td>0.775916</td>\n",
       "      <td>-0.063372</td>\n",
       "      <td>1.328386</td>\n",
       "      <td>0.296823</td>\n",
       "      <td>0.321298</td>\n",
       "      <td>3</td>\n",
       "    </tr>\n",
       "    <tr>\n",
       "      <th>4</th>\n",
       "      <td>-0.917399</td>\n",
       "      <td>-0.993024</td>\n",
       "      <td>1.458716</td>\n",
       "      <td>-0.063372</td>\n",
       "      <td>0.736932</td>\n",
       "      <td>0.296823</td>\n",
       "      <td>0.321298</td>\n",
       "      <td>3</td>\n",
       "    </tr>\n",
       "  </tbody>\n",
       "</table>\n",
       "</div>"
      ],
      "text/plain": [
       "        Sex  Marital status       Age  Education    Income  Occupation  \\\n",
       "0 -0.917399       -0.993024  2.653614   1.604323  0.097524    0.296823   \n",
       "1  1.090038        1.007025 -1.187132  -0.063372  0.782654    0.296823   \n",
       "2 -0.917399       -0.993024  1.117316  -0.063372 -0.833202   -1.269525   \n",
       "3 -0.917399       -0.993024  0.775916  -0.063372  1.328386    0.296823   \n",
       "4 -0.917399       -0.993024  1.458716  -0.063372  0.736932    0.296823   \n",
       "\n",
       "   Settlement size  Claster  \n",
       "0         1.552326        0  \n",
       "1         1.552326        1  \n",
       "2        -0.909730        2  \n",
       "3         0.321298        3  \n",
       "4         0.321298        3  "
      ]
     },
     "execution_count": 85,
     "metadata": {},
     "output_type": "execute_result"
    }
   ],
   "source": [
    "df_dbscan = X.copy()\n",
    "df_dbscan['Claster'] = dbscan.labels_\n",
    "df_dbscan.head()"
   ]
  },
  {
   "cell_type": "code",
   "execution_count": 60,
   "metadata": {},
   "outputs": [],
   "source": [
    "# sns.catplot(x=\"Claster\", y=\"Age\", data=df_dbscan)"
   ]
  },
  {
   "cell_type": "code",
   "execution_count": 61,
   "metadata": {},
   "outputs": [],
   "source": [
    "# sns.catplot(x=\"Claster\", y=\"Income\", data=df_dbscan)"
   ]
  },
  {
   "cell_type": "code",
   "execution_count": 62,
   "metadata": {},
   "outputs": [],
   "source": [
    "# plt.scatter(df[\"Age\"], df[\"Income\"], c=dbscan.labels_)"
   ]
  },
  {
   "cell_type": "code",
   "execution_count": 86,
   "metadata": {},
   "outputs": [
    {
     "name": "stdout",
     "output_type": "stream",
     "text": [
      "0.37684162089041695\n"
     ]
    }
   ],
   "source": [
    "s = silhouette_score(X, dbscan.labels_)\n",
    "print(s)\n",
    "lst_siluete.append(\"dbscan с eps \" + str(dbscan.eps) + \" min_samples \" + str(dbscan.min_samples) + \" = \" + str(s))\n"
   ]
  },
  {
   "cell_type": "markdown",
   "metadata": {},
   "source": [
    "Все полученные силуэты"
   ]
  },
  {
   "cell_type": "code",
   "execution_count": 87,
   "metadata": {},
   "outputs": [
    {
     "data": {
      "text/plain": [
       "['kmeans 3 кластера = 0.2656255437984843',\n",
       " 'kmeans 9 кластеров = 0.2923070949771835',\n",
       " 'kmeans 2 кластеров = 0.24820216342164297',\n",
       " 'aggl 3 кластера = 0.24932369297836884',\n",
       " 'aggl 2 кластера = 0.23099458010188773',\n",
       " 'aggl 5 кластеров = 0.261944083191251',\n",
       " 'aggl 9 кластеров = 0.3016137339305145',\n",
       " 'kmeans 5 кластеров = 0.26118553650481047',\n",
       " 'dbscan с eps 0.07180176272732908 min_samples 3 = -0.45556620923431207',\n",
       " 'dbscan с eps 0.8386553255570547 min_samples 2 = 0.4730388001696076',\n",
       " 'dbscan с eps 0.630664030698468 min_samples 9 = 0.3264426738137654',\n",
       " 'dbscan с eps 0.9122472590644192 min_samples 8 = 0.37684162089041695']"
      ]
     },
     "execution_count": 87,
     "metadata": {},
     "output_type": "execute_result"
    }
   ],
   "source": [
    "lst_siluete"
   ]
  },
  {
   "cell_type": "markdown",
   "metadata": {},
   "source": [
    "Повторим лучший результат за все прогоны (был получен на предыдущих запусках блокнота)"
   ]
  },
  {
   "cell_type": "code",
   "execution_count": 67,
   "metadata": {},
   "outputs": [
    {
     "name": "stdout",
     "output_type": "stream",
     "text": [
      "[ 0  1  2 ... 21 10 21]\n",
      "Коэф.силуэта 0.47277888191439205\n"
     ]
    },
    {
     "data": {
      "text/html": [
       "<div>\n",
       "<style scoped>\n",
       "    .dataframe tbody tr th:only-of-type {\n",
       "        vertical-align: middle;\n",
       "    }\n",
       "\n",
       "    .dataframe tbody tr th {\n",
       "        vertical-align: top;\n",
       "    }\n",
       "\n",
       "    .dataframe thead th {\n",
       "        text-align: right;\n",
       "    }\n",
       "</style>\n",
       "<table border=\"1\" class=\"dataframe\">\n",
       "  <thead>\n",
       "    <tr style=\"text-align: right;\">\n",
       "      <th></th>\n",
       "      <th>Sex</th>\n",
       "      <th>Marital status</th>\n",
       "      <th>Age</th>\n",
       "      <th>Education</th>\n",
       "      <th>Income</th>\n",
       "      <th>Occupation</th>\n",
       "      <th>Settlement size</th>\n",
       "      <th>Claster</th>\n",
       "    </tr>\n",
       "  </thead>\n",
       "  <tbody>\n",
       "    <tr>\n",
       "      <th>0</th>\n",
       "      <td>-0.917399</td>\n",
       "      <td>-0.993024</td>\n",
       "      <td>2.653614</td>\n",
       "      <td>1.604323</td>\n",
       "      <td>0.097524</td>\n",
       "      <td>0.296823</td>\n",
       "      <td>1.552326</td>\n",
       "      <td>0</td>\n",
       "    </tr>\n",
       "    <tr>\n",
       "      <th>1</th>\n",
       "      <td>1.090038</td>\n",
       "      <td>1.007025</td>\n",
       "      <td>-1.187132</td>\n",
       "      <td>-0.063372</td>\n",
       "      <td>0.782654</td>\n",
       "      <td>0.296823</td>\n",
       "      <td>1.552326</td>\n",
       "      <td>1</td>\n",
       "    </tr>\n",
       "    <tr>\n",
       "      <th>2</th>\n",
       "      <td>-0.917399</td>\n",
       "      <td>-0.993024</td>\n",
       "      <td>1.117316</td>\n",
       "      <td>-0.063372</td>\n",
       "      <td>-0.833202</td>\n",
       "      <td>-1.269525</td>\n",
       "      <td>-0.909730</td>\n",
       "      <td>2</td>\n",
       "    </tr>\n",
       "    <tr>\n",
       "      <th>3</th>\n",
       "      <td>-0.917399</td>\n",
       "      <td>-0.993024</td>\n",
       "      <td>0.775916</td>\n",
       "      <td>-0.063372</td>\n",
       "      <td>1.328386</td>\n",
       "      <td>0.296823</td>\n",
       "      <td>0.321298</td>\n",
       "      <td>3</td>\n",
       "    </tr>\n",
       "    <tr>\n",
       "      <th>4</th>\n",
       "      <td>-0.917399</td>\n",
       "      <td>-0.993024</td>\n",
       "      <td>1.458716</td>\n",
       "      <td>-0.063372</td>\n",
       "      <td>0.736932</td>\n",
       "      <td>0.296823</td>\n",
       "      <td>0.321298</td>\n",
       "      <td>3</td>\n",
       "    </tr>\n",
       "  </tbody>\n",
       "</table>\n",
       "</div>"
      ],
      "text/plain": [
       "        Sex  Marital status       Age  Education    Income  Occupation  \\\n",
       "0 -0.917399       -0.993024  2.653614   1.604323  0.097524    0.296823   \n",
       "1  1.090038        1.007025 -1.187132  -0.063372  0.782654    0.296823   \n",
       "2 -0.917399       -0.993024  1.117316  -0.063372 -0.833202   -1.269525   \n",
       "3 -0.917399       -0.993024  0.775916  -0.063372  1.328386    0.296823   \n",
       "4 -0.917399       -0.993024  1.458716  -0.063372  0.736932    0.296823   \n",
       "\n",
       "   Settlement size  Claster  \n",
       "0         1.552326        0  \n",
       "1         1.552326        1  \n",
       "2        -0.909730        2  \n",
       "3         0.321298        3  \n",
       "4         0.321298        3  "
      ]
     },
     "execution_count": 67,
     "metadata": {},
     "output_type": "execute_result"
    }
   ],
   "source": [
    "dbscan = DBSCAN(eps=0.7752287287374522, min_samples=2)\n",
    "dbscan.fit(X)\n",
    "df_dbscan = X.copy()\n",
    "df_dbscan['Claster'] = dbscan.labels_\n",
    "print(dbscan.labels_)\n",
    "print(\"Коэф.силуэта \" + str(silhouette_score(X, dbscan.labels_)))\n",
    "df_dbscan.head()\n"
   ]
  },
  {
   "cell_type": "markdown",
   "metadata": {},
   "source": [
    "## Лучший результат был достигнут при кластеризации DBSCAN с параметрами eps = 0.7752287287374522, min_samples 2, коэффициент силуэта = 0.47277888191439205, количество кластеров = 22"
   ]
  }
 ],
 "metadata": {
  "interpreter": {
   "hash": "c7ae76e1573011856ab1655d278900ce52d206b792fb15be6c371407d48b6425"
  },
  "kernelspec": {
   "display_name": "Python 3.9.7 64-bit",
   "language": "python",
   "name": "python3"
  },
  "language_info": {
   "codemirror_mode": {
    "name": "ipython",
    "version": 3
   },
   "file_extension": ".py",
   "mimetype": "text/x-python",
   "name": "python",
   "nbconvert_exporter": "python",
   "pygments_lexer": "ipython3",
   "version": "3.9.7"
  },
  "orig_nbformat": 4
 },
 "nbformat": 4,
 "nbformat_minor": 2
}
